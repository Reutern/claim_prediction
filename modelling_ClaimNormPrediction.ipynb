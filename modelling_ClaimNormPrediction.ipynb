{
 "cells": [
  {
   "cell_type": "markdown",
   "id": "29f311c0",
   "metadata": {},
   "source": [
    "# Coding Challenge Huk-Coburg"
   ]
  },
  {
   "cell_type": "markdown",
   "id": "d4724944",
   "metadata": {},
   "source": [
    "Experiment to predict ClaimNorm directly from the features of the data. \n",
    "\n",
    "Sklearn offers many algorithms, which are very performant on structured data and quick to implement.\n",
    "\n",
    "MLflow tracks the scores of the experiments.\n",
    "\n",
    "#### Metric\n",
    "As metric I choose R2, as it is the standard metric for regression tasks in sklearn and always falls between -1 and 1."
   ]
  },
  {
   "cell_type": "code",
   "execution_count": null,
   "id": "a2dac15a",
   "metadata": {},
   "outputs": [],
   "source": [
    "import mlflow\n",
    "import sklearn\n",
    "import pandas as pd\n",
    "\n",
    "mlflow.sklearn.autolog()\n",
    "mlflow.set_tracking_uri(\"http://127.0.0.1:5000\")\n",
    "mlflow.set_experiment(\"ClaimNormPrediction\")"
   ]
  },
  {
   "cell_type": "markdown",
   "id": "64dcacfa",
   "metadata": {},
   "source": [
    "## Data Preparation - Feature Engineering"
   ]
  },
  {
   "cell_type": "code",
   "execution_count": null,
   "id": "0ce4778e",
   "metadata": {},
   "outputs": [],
   "source": [
    "from sklearn.model_selection import train_test_split"
   ]
  },
  {
   "cell_type": "code",
   "execution_count": null,
   "id": "58d77512",
   "metadata": {},
   "outputs": [],
   "source": [
    "df = pd.read_pickle(\"data/df_filter.pkl\")"
   ]
  },
  {
   "cell_type": "code",
   "execution_count": null,
   "id": "71a76270",
   "metadata": {},
   "outputs": [],
   "source": [
    "# ClaimNb, ClaimAmount and exposure are dependent variables of ClaimNorm \n",
    "df = df.drop([\"ClaimNb\", \"ClaimAmount\", \"Exposure\"], axis=1)"
   ]
  },
  {
   "cell_type": "code",
   "execution_count": null,
   "id": "28b57c66",
   "metadata": {},
   "outputs": [],
   "source": [
    "labels = df[\"ClaimNorm\"].to_numpy()\n",
    "data = df.drop(\"ClaimNorm\", axis=1)"
   ]
  },
  {
   "cell_type": "markdown",
   "id": "834dfc79",
   "metadata": {},
   "source": [
    "### Train Test Split"
   ]
  },
  {
   "cell_type": "code",
   "execution_count": null,
   "id": "16c6c45e",
   "metadata": {},
   "outputs": [],
   "source": [
    "data_train, data_test, labels_train, labels_test = train_test_split(data, labels, test_size=0.1, random_state=0)"
   ]
  },
  {
   "cell_type": "markdown",
   "id": "6c9d76e1",
   "metadata": {},
   "source": [
    "#### Is the split unbiased (similar ratio of no-claims)?"
   ]
  },
  {
   "cell_type": "code",
   "execution_count": null,
   "id": "3480bf00",
   "metadata": {},
   "outputs": [],
   "source": [
    "print(\"Ratio no-claims in Test\", sum(labels_test > 0)/len(labels_test))"
   ]
  },
  {
   "cell_type": "code",
   "execution_count": null,
   "id": "eec9f4bb",
   "metadata": {},
   "outputs": [],
   "source": [
    "print(\"Ratio no-claims in Train\", sum(labels_train > 0)/len(labels_train))"
   ]
  },
  {
   "cell_type": "markdown",
   "id": "94e8bc47",
   "metadata": {},
   "source": [
    "## Baseline - Linear Model"
   ]
  },
  {
   "cell_type": "code",
   "execution_count": null,
   "id": "4ef28e35",
   "metadata": {},
   "outputs": [],
   "source": [
    "from sklearn.linear_model import LinearRegression"
   ]
  },
  {
   "cell_type": "code",
   "execution_count": null,
   "id": "a8bbbac7",
   "metadata": {},
   "outputs": [],
   "source": [
    "with mlflow.start_run(run_name=\"Baseline\"):\n",
    "    linear_model = LinearRegression()\n",
    "    linear_model.fit(data_train, labels_train)\n",
    "    linear_model.score(data_test, labels_test)"
   ]
  },
  {
   "cell_type": "markdown",
   "id": "913f9c3d",
   "metadata": {},
   "source": [
    "## Hyperparameter Tuning - Ridge Regression"
   ]
  },
  {
   "cell_type": "code",
   "execution_count": null,
   "id": "ce899bdb",
   "metadata": {},
   "outputs": [],
   "source": [
    "from sklearn.model_selection import RandomizedSearchCV\n",
    "\n",
    "from sklearn.linear_model import Ridge\n",
    "from scipy.stats import uniform\n",
    "\n",
    "ridge = Ridge()\n",
    "distributions = dict(tol=[1e-4, 5e-4, 1e-3, 5e-3],\n",
    "                     alpha=uniform(loc=0, scale=5))\n",
    "\n",
    "with mlflow.start_run(run_name=\"HT-LinearModel\"):\n",
    "    reg = RandomizedSearchCV(ridge, distributions, random_state=0)\n",
    "    search = reg.fit(data_train, labels_train)"
   ]
  },
  {
   "cell_type": "code",
   "execution_count": null,
   "id": "ff6c7cfe",
   "metadata": {},
   "outputs": [],
   "source": [
    "search.score(data_test, labels_test)"
   ]
  },
  {
   "cell_type": "markdown",
   "id": "960c74b1",
   "metadata": {},
   "source": [
    "## Hyperparameter Tuning - Random Forest"
   ]
  },
  {
   "cell_type": "code",
   "execution_count": null,
   "id": "9a498a5c",
   "metadata": {},
   "outputs": [],
   "source": [
    "from sklearn.ensemble import RandomForestRegressor\n",
    "\n",
    "with mlflow.start_run(run_name=\"RandomForest-resample\"):\n",
    "    model = RandomForestRegressor()\n",
    "    model.fit(data_train, labels_train)\n",
    "    model.score(data_test, labels_test)"
   ]
  },
  {
   "cell_type": "code",
   "execution_count": null,
   "id": "db536f8e",
   "metadata": {},
   "outputs": [],
   "source": [
    "from sklearn.ensemble import RandomForestRegressor\n",
    "\n",
    "rf = RandomForestRegressor()\n",
    "distributions = dict(n_estimators=[10,50,100],\n",
    "                     max_depth=[2,3,4,5])\n",
    "\n",
    "with mlflow.start_run(run_name=\"HT-RandomForest\"):\n",
    "    reg = RandomizedSearchCV(rf, distributions, random_state=0)\n",
    "    search = reg.fit(data_train, labels_train)\n",
    "    search.score(data_test, labels_test)"
   ]
  },
  {
   "cell_type": "markdown",
   "id": "b4110fae",
   "metadata": {},
   "source": [
    "## Downsampling Majority"
   ]
  },
  {
   "cell_type": "code",
   "execution_count": null,
   "id": "f2c69105",
   "metadata": {},
   "outputs": [],
   "source": [
    "from sklearn.utils import resample"
   ]
  },
  {
   "cell_type": "code",
   "execution_count": null,
   "id": "15eec3bf",
   "metadata": {},
   "outputs": [],
   "source": [
    "data_train_full = data_train\n",
    "data_train_full[\"label\"] = labels_train"
   ]
  },
  {
   "cell_type": "markdown",
   "id": "5f5756b7",
   "metadata": {},
   "source": [
    "Split the data with and without claims to recreate a training data set with similar amount of both categories"
   ]
  },
  {
   "cell_type": "code",
   "execution_count": null,
   "id": "f6c55c01",
   "metadata": {},
   "outputs": [],
   "source": [
    "data_neg = data_train_full[data_train_full[\"label\"]==0]\n",
    "data_pos = data_train_full[data_train_full[\"label\"]>0]\n",
    "n_pos=len(data_pos)\n",
    "data_neg_resample = resample(data_neg, n_samples=n_pos, replace=False)\n",
    "data_resample = pd.concat([data_neg_resample, data_pos])\n",
    "data_train_resample = data_resample.drop(\"label\", axis=1)\n",
    "labels_train_resample = data_resample[\"label\"].to_numpy()\n",
    "print(\"Ratio no-claims in Train\", sum(labels_train_resample > 0)/len(labels_train_resample))"
   ]
  },
  {
   "cell_type": "code",
   "execution_count": null,
   "id": "8decfe6b",
   "metadata": {},
   "outputs": [],
   "source": [
    "with mlflow.start_run(run_name=\"Baseline-resample\"):\n",
    "    linear_model = LinearRegression()\n",
    "    linear_model.fit(data_train_resample, labels_train_resample)\n",
    "    linear_model.score(data_test, labels_test)"
   ]
  },
  {
   "cell_type": "code",
   "execution_count": null,
   "id": "933f363c",
   "metadata": {},
   "outputs": [],
   "source": [
    "from sklearn.ensemble import RandomForestRegressor\n",
    "\n",
    "with mlflow.start_run(run_name=\"RandomForest-resample\"):\n",
    "    model = RandomForestRegressor()\n",
    "    model.fit(data_train_resample, labels_train_resample)\n",
    "    model.score(data_test, labels_test)"
   ]
  }
 ],
 "metadata": {
  "kernelspec": {
   "display_name": "Python 3 (ipykernel)",
   "language": "python",
   "name": "python3"
  },
  "language_info": {
   "codemirror_mode": {
    "name": "ipython",
    "version": 3
   },
   "file_extension": ".py",
   "mimetype": "text/x-python",
   "name": "python",
   "nbconvert_exporter": "python",
   "pygments_lexer": "ipython3",
   "version": "3.9.7"
  }
 },
 "nbformat": 4,
 "nbformat_minor": 5
}
