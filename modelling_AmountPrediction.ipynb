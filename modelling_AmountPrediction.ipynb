{
 "cells": [
  {
   "cell_type": "markdown",
   "id": "cd3f649b",
   "metadata": {},
   "source": [
    "# Coding Challenge Huk-Coburg"
   ]
  },
  {
   "cell_type": "code",
   "execution_count": null,
   "id": "09364b16",
   "metadata": {},
   "outputs": [],
   "source": [
    "import mlflow\n",
    "import sklearn\n",
    "import pandas as pd\n",
    "\n",
    "mlflow.sklearn.autolog()\n",
    "mlflow.set_tracking_uri(\"http://127.0.0.1:5000\")\n",
    "mlflow.set_experiment(\"AmountPrediction\")"
   ]
  },
  {
   "cell_type": "code",
   "execution_count": null,
   "id": "7f408528",
   "metadata": {},
   "outputs": [],
   "source": [
    "from sklearn.model_selection import train_test_split"
   ]
  },
  {
   "cell_type": "code",
   "execution_count": null,
   "id": "278337da",
   "metadata": {},
   "outputs": [],
   "source": [
    "df = pd.read_pickle(\"data/df_full_1.pkl\")"
   ]
  },
  {
   "cell_type": "code",
   "execution_count": null,
   "id": "3acc2e9c",
   "metadata": {},
   "outputs": [],
   "source": [
    "df_filter = df[df[\"ClaimAmount\"]>0]"
   ]
  },
  {
   "cell_type": "code",
   "execution_count": null,
   "id": "b3e1290e",
   "metadata": {},
   "outputs": [],
   "source": [
    "# ClaimNb, ClaimAmount and exposure are dependent variables of ClaimNorm \n",
    "df_filter = df_filter.drop([\"ClaimNb\", \"ClaimNorm\", \"Exposure\"], axis=1)"
   ]
  },
  {
   "cell_type": "code",
   "execution_count": null,
   "id": "f6dd0a62",
   "metadata": {},
   "outputs": [],
   "source": [
    "labels = df_filter[\"ClaimAmount\"].to_numpy()\n",
    "data = df_filter.drop(\"ClaimAmount\", axis=1)"
   ]
  },
  {
   "cell_type": "code",
   "execution_count": null,
   "id": "068f21b8",
   "metadata": {},
   "outputs": [],
   "source": [
    "data_train, data_test, labels_train, labels_test = train_test_split(data, labels, test_size=0.1, random_state=0)"
   ]
  },
  {
   "cell_type": "code",
   "execution_count": null,
   "id": "11ba19c1",
   "metadata": {},
   "outputs": [],
   "source": [
    "from sklearn.linear_model import LinearRegression\n",
    "with mlflow.start_run(run_name=\"LinearModel-2\"):\n",
    "    model = LinearRegression()\n",
    "    model.fit(data_train, labels_train)\n",
    "    model.score(data_test, labels_test)"
   ]
  },
  {
   "cell_type": "code",
   "execution_count": null,
   "id": "d8864d08",
   "metadata": {},
   "outputs": [],
   "source": [
    "from sklearn.ensemble import RandomForestRegressor\n",
    "with mlflow.start_run(run_name=\"RandomForest\"):\n",
    "    model = RandomForestRegressor()\n",
    "    model.fit(data_train, labels_train)\n",
    "    model.score(data_test, labels_test)"
   ]
  },
  {
   "cell_type": "code",
   "execution_count": null,
   "id": "2cd76dd7",
   "metadata": {},
   "outputs": [],
   "source": []
  },
  {
   "cell_type": "code",
   "execution_count": null,
   "id": "95b39f84",
   "metadata": {},
   "outputs": [],
   "source": [
    "df_filter.corr()"
   ]
  },
  {
   "cell_type": "code",
   "execution_count": null,
   "id": "4c7d3ffc",
   "metadata": {},
   "outputs": [],
   "source": []
  }
 ],
 "metadata": {
  "kernelspec": {
   "display_name": "Python 3 (ipykernel)",
   "language": "python",
   "name": "python3"
  },
  "language_info": {
   "codemirror_mode": {
    "name": "ipython",
    "version": 3
   },
   "file_extension": ".py",
   "mimetype": "text/x-python",
   "name": "python",
   "nbconvert_exporter": "python",
   "pygments_lexer": "ipython3",
   "version": "3.9.7"
  }
 },
 "nbformat": 4,
 "nbformat_minor": 5
}
