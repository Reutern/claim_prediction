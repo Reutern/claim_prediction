{
 "cells": [
  {
   "cell_type": "markdown",
   "id": "29f311c0",
   "metadata": {},
   "source": [
    "# Coding Challenge Huk-Coburg"
   ]
  },
  {
   "cell_type": "code",
   "execution_count": null,
   "id": "a2dac15a",
   "metadata": {},
   "outputs": [],
   "source": [
    "import mlflow\n",
    "import sklearn\n",
    "import pandas as pd\n",
    "\n",
    "mlflow.sklearn.autolog()\n",
    "mlflow.set_tracking_uri(\"http://127.0.0.1:5000\")\n",
    "mlflow.set_experiment(\"ClaimsClassification\")"
   ]
  },
  {
   "cell_type": "markdown",
   "id": "64dcacfa",
   "metadata": {},
   "source": [
    "## Data Preparation - Feature Engineering"
   ]
  },
  {
   "cell_type": "code",
   "execution_count": null,
   "id": "0ce4778e",
   "metadata": {},
   "outputs": [],
   "source": [
    "from sklearn.model_selection import train_test_split"
   ]
  },
  {
   "cell_type": "code",
   "execution_count": null,
   "id": "58d77512",
   "metadata": {},
   "outputs": [],
   "source": [
    "df = pd.read_pickle(\"data/df_full_2.pkl\")"
   ]
  },
  {
   "cell_type": "code",
   "execution_count": null,
   "id": "71a76270",
   "metadata": {},
   "outputs": [],
   "source": [
    "# ClaimNorm, ClaimAmount and exposure are dependent variables of ClaimNorm \n",
    "df = df.drop([\"ClaimNorm\", \"ClaimAmount\", \"Exposure\"], axis=1)"
   ]
  },
  {
   "cell_type": "code",
   "execution_count": null,
   "id": "28b57c66",
   "metadata": {},
   "outputs": [],
   "source": [
    "labels = df[\"ClaimNb\"].apply(lambda n: int(bool(n))).to_numpy()\n",
    "data = df.drop(\"ClaimNb\", axis=1)"
   ]
  },
  {
   "cell_type": "markdown",
   "id": "834dfc79",
   "metadata": {},
   "source": [
    "### Train Test Split"
   ]
  },
  {
   "cell_type": "code",
   "execution_count": null,
   "id": "16c6c45e",
   "metadata": {},
   "outputs": [],
   "source": [
    "data_train, data_test, labels_train, labels_test = train_test_split(data, labels, test_size=0.1, random_state=0)"
   ]
  },
  {
   "cell_type": "markdown",
   "id": "6c9d76e1",
   "metadata": {},
   "source": [
    "#### Is the split unbiased (similar ratio of no-claims)?"
   ]
  },
  {
   "cell_type": "code",
   "execution_count": null,
   "id": "3480bf00",
   "metadata": {},
   "outputs": [],
   "source": [
    "print(\"Ratio no-claims in Test\", sum(labels_test > 0)/len(labels_test))"
   ]
  },
  {
   "cell_type": "code",
   "execution_count": null,
   "id": "eec9f4bb",
   "metadata": {},
   "outputs": [],
   "source": [
    "print(\"Ratio no-claims in Train\", sum(labels_train > 0)/len(labels_train))"
   ]
  },
  {
   "cell_type": "markdown",
   "id": "da4e704c",
   "metadata": {},
   "source": [
    "## Metrics\n",
    "The standard metric for a classification task is F1. "
   ]
  },
  {
   "cell_type": "code",
   "execution_count": null,
   "id": "67f1053f",
   "metadata": {},
   "outputs": [],
   "source": [
    "from sklearn.metrics import f1_score"
   ]
  },
  {
   "cell_type": "code",
   "execution_count": null,
   "id": "9ed02b09",
   "metadata": {},
   "outputs": [],
   "source": [
    "from sklearn.dummy import DummyClassifier\n",
    "with mlflow.start_run(run_name=\"Baseline\"):\n",
    "    dummy_model = DummyClassifier(strategy=\"constant\", constant=1)\n",
    "    dummy_model.fit(data_train, labels_train)\n",
    "    dummy_model.score(data_test, labels_test)\n",
    "    labels_pred = dummy_model.predict(data_test)\n",
    "    f1_score(labels_test, labels_pred)  "
   ]
  },
  {
   "cell_type": "markdown",
   "id": "94e8bc47",
   "metadata": {},
   "source": [
    "## Logistic Regression Model"
   ]
  },
  {
   "cell_type": "code",
   "execution_count": null,
   "id": "4ef28e35",
   "metadata": {},
   "outputs": [],
   "source": [
    "from sklearn.linear_model import LogisticRegression"
   ]
  },
  {
   "cell_type": "code",
   "execution_count": null,
   "id": "a8bbbac7",
   "metadata": {},
   "outputs": [],
   "source": [
    "with mlflow.start_run(run_name=\"LogistRegression\"):\n",
    "    logistic_model = LogisticRegression()\n",
    "    logistic_model.fit(data_train, labels_train)\n",
    "    logistic_model.score(data_test, labels_test)\n",
    "    labels_pred = logistic_model.predict(data_test)\n",
    "    f1_score(labels_test, labels_pred)"
   ]
  },
  {
   "cell_type": "markdown",
   "id": "8466a95e",
   "metadata": {},
   "source": [
    "## Random Forest"
   ]
  },
  {
   "cell_type": "code",
   "execution_count": null,
   "id": "f3118ccd",
   "metadata": {},
   "outputs": [],
   "source": [
    "from sklearn.ensemble import RandomForestClassifier"
   ]
  },
  {
   "cell_type": "code",
   "execution_count": null,
   "id": "fcfbc8e5",
   "metadata": {},
   "outputs": [],
   "source": [
    "with mlflow.start_run(run_name=\"RandomForest\"):\n",
    "    model = RandomForestClassifier(class_weight=\"balanced\")\n",
    "    model.fit(data_train, labels_train)\n",
    "    model.score(data_test, labels_test)\n",
    "    labels_pred = model.predict(data_test)\n",
    "    f1_score(labels_test, labels_pred)"
   ]
  },
  {
   "cell_type": "markdown",
   "id": "913f9c3d",
   "metadata": {},
   "source": [
    "## Hyperparameter Tuning - Ridge Regression"
   ]
  },
  {
   "cell_type": "code",
   "execution_count": null,
   "id": "ce899bdb",
   "metadata": {},
   "outputs": [],
   "source": [
    "from sklearn.model_selection import RandomizedSearchCV\n",
    "\n",
    "from sklearn.linear_model import Ridge\n",
    "from scipy.stats import uniform\n",
    "\n",
    "ridge = Ridge()\n",
    "distributions = dict(tol=[1e-4, 5e-4, 1e-3, 5e-3],\n",
    "                     alpha=uniform(loc=0, scale=5))\n",
    "\n",
    "with mlflow.start_run(run_name=\"HT-LinearModel\"):\n",
    "    reg = RandomizedSearchCV(ridge, distributions, random_state=0)\n",
    "    search = reg.fit(data_train, labels_train)"
   ]
  },
  {
   "cell_type": "code",
   "execution_count": null,
   "id": "ff6c7cfe",
   "metadata": {},
   "outputs": [],
   "source": [
    "search.score(data_test, labels_test)"
   ]
  },
  {
   "cell_type": "markdown",
   "id": "960c74b1",
   "metadata": {},
   "source": [
    "## Hyperparameter Tuning - Random Forest"
   ]
  },
  {
   "cell_type": "code",
   "execution_count": null,
   "id": "db536f8e",
   "metadata": {},
   "outputs": [],
   "source": [
    "from sklearn.ensemble import RandomForestRegressor\n",
    "\n",
    "rf = RandomForestRegressor()\n",
    "distributions = dict(n_estimators=[10,50,100],\n",
    "                     max_depth=[2,3,4,5])\n",
    "\n",
    "with mlflow.start_run(run_name=\"HT-RandomForest\"):\n",
    "    reg = RandomizedSearchCV(rf, distributions, random_state=0)\n",
    "    search = reg.fit(data_train, labels_train)\n",
    "    search.score(data_test, labels_test)"
   ]
  },
  {
   "cell_type": "code",
   "execution_count": null,
   "id": "90d0121d",
   "metadata": {},
   "outputs": [],
   "source": []
  },
  {
   "cell_type": "code",
   "execution_count": null,
   "id": "e1b0a2ba",
   "metadata": {},
   "outputs": [],
   "source": []
  },
  {
   "cell_type": "code",
   "execution_count": null,
   "id": "cb88960b",
   "metadata": {},
   "outputs": [],
   "source": []
  }
 ],
 "metadata": {
  "kernelspec": {
   "display_name": "Python 3 (ipykernel)",
   "language": "python",
   "name": "python3"
  },
  "language_info": {
   "codemirror_mode": {
    "name": "ipython",
    "version": 3
   },
   "file_extension": ".py",
   "mimetype": "text/x-python",
   "name": "python",
   "nbconvert_exporter": "python",
   "pygments_lexer": "ipython3",
   "version": "3.9.7"
  }
 },
 "nbformat": 4,
 "nbformat_minor": 5
}
