{
 "cells": [
  {
   "cell_type": "markdown",
   "id": "57b13bb6",
   "metadata": {},
   "source": [
    "# Coding Challenge Huk-Coburg"
   ]
  },
  {
   "cell_type": "markdown",
   "id": "cdb87454",
   "metadata": {},
   "source": [
    "## Business Understanding\n",
    "\n",
    "* Given is a dataset of french car insurances with raised damage claims\n",
    "* Time budget 5h\n",
    "* predict the yearly damage claims for an insurance holder. \n",
    "\n",
    "Questions:\n",
    "What is BonusMalus? - Schadenfreiheitsrabatt: discount for driving without any claims for a certain period "
   ]
  },
  {
   "cell_type": "markdown",
   "id": "fa4cb38f",
   "metadata": {},
   "source": [
    "## Data Understanding"
   ]
  },
  {
   "cell_type": "code",
   "execution_count": null,
   "id": "f609595b",
   "metadata": {},
   "outputs": [],
   "source": [
    "import pandas as pd \n",
    "import arff"
   ]
  },
  {
   "cell_type": "code",
   "execution_count": null,
   "id": "627aae15",
   "metadata": {},
   "outputs": [],
   "source": [
    "# Load features and frequency\n",
    "data_freq = arff.load('data/freMTPL2freq.arff')\n",
    "df_freq = pd.DataFrame(data_freq, columns=[\"IDpol\", \"ClaimNb\", \"Exposure\", \"Area\", \"VehPower\", \n",
    "                                           \"VehAge\",\"DrivAge\", \"BonusMalus\", \"VehBrand\", \"VehGas\", \n",
    "                                           \"Density\", \"Region\"])"
   ]
  },
  {
   "cell_type": "code",
   "execution_count": null,
   "id": "d8d333df",
   "metadata": {},
   "outputs": [],
   "source": [
    "# Load Claim Amount\n",
    "data_sev = arff.load('data/freMTPL2sev.arff')\n",
    "df_sev = pd.DataFrame(data_sev, columns=[\"IDpol\", \"ClaimAmount\"])"
   ]
  },
  {
   "cell_type": "markdown",
   "id": "ce2f2207",
   "metadata": {},
   "source": [
    "#### Features"
   ]
  },
  {
   "cell_type": "code",
   "execution_count": null,
   "id": "6c847d57",
   "metadata": {},
   "outputs": [],
   "source": [
    "df_freq.describe()"
   ]
  },
  {
   "cell_type": "code",
   "execution_count": null,
   "id": "8ffe1335",
   "metadata": {},
   "outputs": [],
   "source": [
    "df_freq.head(5)"
   ]
  },
  {
   "cell_type": "code",
   "execution_count": null,
   "id": "786fbefa",
   "metadata": {},
   "outputs": [],
   "source": [
    "# Show categorical variables\n",
    "print(\"Area\", list(df_freq[\"Area\"].unique()))\n",
    "print(\"VehBrand\", list(df_freq[\"VehBrand\"].unique()))\n",
    "print(\"VehGas\",list(df_freq[\"VehGas\"].unique()))\n",
    "print(\"Region\", list(df_freq[\"Region\"].unique()), len(list(df_freq[\"Region\"].unique())))"
   ]
  },
  {
   "cell_type": "markdown",
   "id": "4f583256",
   "metadata": {},
   "source": [
    "#### Claims"
   ]
  },
  {
   "cell_type": "code",
   "execution_count": null,
   "id": "19b0c599",
   "metadata": {},
   "outputs": [],
   "source": [
    "df_sev.describe()"
   ]
  },
  {
   "cell_type": "code",
   "execution_count": null,
   "id": "0eeb0ced",
   "metadata": {},
   "outputs": [],
   "source": [
    "# Sum all claims\n",
    "df_total_claim = df_sev.groupby(\"IDpol\").sum()"
   ]
  },
  {
   "cell_type": "code",
   "execution_count": null,
   "id": "7980ce1c",
   "metadata": {},
   "outputs": [],
   "source": [
    "df_total_claim.plot(kind='hist', bins=100, logy=True)"
   ]
  },
  {
   "cell_type": "markdown",
   "id": "e21573a2",
   "metadata": {},
   "source": [
    "#### Merge DataFrames"
   ]
  },
  {
   "cell_type": "code",
   "execution_count": null,
   "id": "a2c99346",
   "metadata": {},
   "outputs": [],
   "source": [
    "df = df_freq.set_index(\"IDpol\")\n",
    "df[\"ClaimAmount\"] = df_total_claim[\"ClaimAmount\"]\n",
    "df = df.fillna(0)"
   ]
  },
  {
   "cell_type": "markdown",
   "id": "fe7640b2",
   "metadata": {},
   "source": [
    "## Data Quality - Data Preparation"
   ]
  },
  {
   "cell_type": "markdown",
   "id": "d5994fac",
   "metadata": {},
   "source": [
    "#### Are there non-unique rows?"
   ]
  },
  {
   "cell_type": "code",
   "execution_count": null,
   "id": "e063ce1f",
   "metadata": {},
   "outputs": [],
   "source": [
    "assert len(df_freq[\"IDpol\"]) == len(df_freq[\"IDpol\"].unique())"
   ]
  },
  {
   "cell_type": "code",
   "execution_count": null,
   "id": "258f1fd8",
   "metadata": {},
   "outputs": [],
   "source": [
    "assert len(df.index) == len(df.index.unique())"
   ]
  },
  {
   "cell_type": "markdown",
   "id": "a7eba1f5",
   "metadata": {},
   "source": [
    "#### How many insurance holders have claims but no recorded amount?"
   ]
  },
  {
   "cell_type": "code",
   "execution_count": null,
   "id": "72d749f8",
   "metadata": {},
   "outputs": [],
   "source": [
    "print(\"#Empty Claims = \", len(df[(df[\"ClaimNb\"]>0 ) & (df[\"ClaimAmount\"]==0)]))\n",
    "print(\"Ratio Empty Claims = \",len(df[(df[\"ClaimNb\"]>0 ) & (df[\"ClaimAmount\"]==0)]) / len(df[df[\"ClaimNb\"]>0]))"
   ]
  },
  {
   "cell_type": "code",
   "execution_count": null,
   "id": "c0b66fc1",
   "metadata": {},
   "outputs": [],
   "source": [
    "# Drop Empty Claims\n",
    "df_filter = df.drop(df[(df[\"ClaimNb\"]>0 ) & (df[\"ClaimAmount\"]==0)].index)\n",
    "print(\"#Empty Claims = \", len(df_filter[(df_filter[\"ClaimNb\"]>0 ) & (df_filter[\"ClaimAmount\"]==0)]))"
   ]
  },
  {
   "cell_type": "markdown",
   "id": "0172ebdb",
   "metadata": {},
   "source": [
    "#### How many claims outlayers are in df?"
   ]
  },
  {
   "cell_type": "code",
   "execution_count": null,
   "id": "02d0ae38",
   "metadata": {},
   "outputs": [],
   "source": [
    "print(\"# Outlayers\", len(df_filter[df_filter[\"ClaimAmount\"]>0.5e6]))\n",
    "print(\"Ratio Claim Amounts\", df_filter[df_filter[\"ClaimAmount\"]>0.5e6][\"ClaimAmount\"].sum() / df_filter[\"ClaimAmount\"].sum())"
   ]
  },
  {
   "cell_type": "code",
   "execution_count": null,
   "id": "4ca54063",
   "metadata": {},
   "outputs": [],
   "source": [
    "# Remove outlayers\n",
    "df_filter = df_filter[df_filter[\"ClaimAmount\"]<0.5e6]"
   ]
  },
  {
   "cell_type": "markdown",
   "id": "57453bb5",
   "metadata": {},
   "source": [
    "The outlayers will be impossible to predict.\n",
    "However, they combine to a significant amount of claim value. \n",
    "-> Add a outlayer markup on the insurance "
   ]
  },
  {
   "cell_type": "markdown",
   "id": "b8f95993",
   "metadata": {},
   "source": [
    "#### Do the areas and regions match?"
   ]
  },
  {
   "cell_type": "code",
   "execution_count": null,
   "id": "1045ec7e",
   "metadata": {},
   "outputs": [],
   "source": [
    "area_regions = df_filter.groupby(\"Area\")[\"Region\"].apply(lambda r: sorted(list(r.unique())))"
   ]
  },
  {
   "cell_type": "code",
   "execution_count": null,
   "id": "60078722",
   "metadata": {},
   "outputs": [],
   "source": [
    "# Number of regions\n",
    "len(df_filter[\"Region\"].unique())"
   ]
  },
  {
   "cell_type": "code",
   "execution_count": null,
   "id": "75b5d4cb",
   "metadata": {},
   "outputs": [],
   "source": [
    "area_regions.apply(len)"
   ]
  },
  {
   "cell_type": "markdown",
   "id": "661b4a0c",
   "metadata": {},
   "source": [
    "## Correlations"
   ]
  },
  {
   "cell_type": "code",
   "execution_count": null,
   "id": "41d113b8",
   "metadata": {},
   "outputs": [],
   "source": [
    "pd.plotting.scatter_matrix(df_filter[[\"ClaimNb\",\"Exposure\",\"VehPower\",\"VehAge\",\"DrivAge\",\"BonusMalus\",\"ClaimAmount\"]])"
   ]
  },
  {
   "cell_type": "code",
   "execution_count": null,
   "id": "a849b8fc",
   "metadata": {},
   "outputs": [],
   "source": [
    "df_filter[[\"ClaimNb\",\"Exposure\",\"VehPower\",\"VehAge\",\"DrivAge\",\"BonusMalus\",\"ClaimAmount\"]].corr()"
   ]
  },
  {
   "cell_type": "markdown",
   "id": "aef59570",
   "metadata": {},
   "source": [
    "### Include categorical variables"
   ]
  },
  {
   "cell_type": "code",
   "execution_count": null,
   "id": "b6fb3ec9",
   "metadata": {},
   "outputs": [],
   "source": [
    "df_full = pd.get_dummies(df_filter)"
   ]
  },
  {
   "cell_type": "code",
   "execution_count": null,
   "id": "f2d47e76",
   "metadata": {},
   "outputs": [],
   "source": [
    "corr_matrix = df_full.corr()"
   ]
  },
  {
   "cell_type": "code",
   "execution_count": null,
   "id": "53e1d310",
   "metadata": {},
   "outputs": [],
   "source": [
    "corr_matrix[\"ClaimAmount\"]"
   ]
  },
  {
   "cell_type": "code",
   "execution_count": null,
   "id": "d721ddf2",
   "metadata": {},
   "outputs": [],
   "source": []
  }
 ],
 "metadata": {
  "kernelspec": {
   "display_name": "Python 3 (ipykernel)",
   "language": "python",
   "name": "python3"
  },
  "language_info": {
   "codemirror_mode": {
    "name": "ipython",
    "version": 3
   },
   "file_extension": ".py",
   "mimetype": "text/x-python",
   "name": "python",
   "nbconvert_exporter": "python",
   "pygments_lexer": "ipython3",
   "version": "3.9.7"
  }
 },
 "nbformat": 4,
 "nbformat_minor": 5
}
