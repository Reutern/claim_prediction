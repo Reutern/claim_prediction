{
 "cells": [
  {
   "cell_type": "markdown",
   "id": "e4c188a2",
   "metadata": {},
   "source": [
    "# Coding Challenge Huk-Coburg"
   ]
  },
  {
   "cell_type": "markdown",
   "id": "6ac566f9",
   "metadata": {},
   "source": [
    "## Business Understanding\n",
    "\n",
    "* Given is a dataset of french car insurances with raised damage claims\n",
    "* Time budget 5h\n",
    "* predict the yearly damage claims for an insurance holder. \n",
    "\n",
    "Questions:\n",
    "What is BonusMalus? - Schadenfreiheitsrabatt: discount for driving without any claims for a certain period "
   ]
  },
  {
   "cell_type": "markdown",
   "id": "7c2c728f",
   "metadata": {},
   "source": [
    "## Data Understanding"
   ]
  },
  {
   "cell_type": "code",
   "execution_count": null,
   "id": "03dabfa2",
   "metadata": {},
   "outputs": [],
   "source": [
    "import pandas as pd \n",
    "import arff\n",
    "\n",
    "import seaborn as sns\n",
    "import matplotlib.pyplot as plt"
   ]
  },
  {
   "cell_type": "code",
   "execution_count": null,
   "id": "5f64a99b",
   "metadata": {},
   "outputs": [],
   "source": [
    "# Load features and frequency\n",
    "data_freq = arff.load('data/freMTPL2freq.arff')\n",
    "df_freq = pd.DataFrame(data_freq, columns=[\"IDpol\", \"ClaimNb\", \"Exposure\", \"Area\", \"VehPower\", \n",
    "                                           \"VehAge\",\"DrivAge\", \"BonusMalus\", \"VehBrand\", \"VehGas\", \n",
    "                                           \"Density\", \"Region\"])"
   ]
  },
  {
   "cell_type": "code",
   "execution_count": null,
   "id": "4d483ef5",
   "metadata": {},
   "outputs": [],
   "source": [
    "# Load Claim Amount\n",
    "data_sev = arff.load('data/freMTPL2sev.arff')\n",
    "df_sev = pd.DataFrame(data_sev, columns=[\"IDpol\", \"ClaimAmount\"])"
   ]
  },
  {
   "cell_type": "markdown",
   "id": "d6c2556a",
   "metadata": {},
   "source": [
    "#### Features"
   ]
  },
  {
   "cell_type": "code",
   "execution_count": null,
   "id": "3d27830a",
   "metadata": {},
   "outputs": [],
   "source": [
    "df_freq.describe()"
   ]
  },
  {
   "cell_type": "code",
   "execution_count": null,
   "id": "249dd911",
   "metadata": {},
   "outputs": [],
   "source": [
    "df_freq.head(5)"
   ]
  },
  {
   "cell_type": "code",
   "execution_count": null,
   "id": "fa82c92d",
   "metadata": {},
   "outputs": [],
   "source": [
    "# Show categorical variables\n",
    "print(\"Area\", list(df_freq[\"Area\"].unique()))\n",
    "print(\"VehBrand\", list(df_freq[\"VehBrand\"].unique()))\n",
    "print(\"VehGas\",list(df_freq[\"VehGas\"].unique()))\n",
    "print(\"Region\", list(df_freq[\"Region\"].unique()), len(list(df_freq[\"Region\"].unique())))"
   ]
  },
  {
   "cell_type": "markdown",
   "id": "6ed1e61a",
   "metadata": {},
   "source": [
    "#### Claims"
   ]
  },
  {
   "cell_type": "code",
   "execution_count": null,
   "id": "47f1205f",
   "metadata": {},
   "outputs": [],
   "source": [
    "df_sev.describe()"
   ]
  },
  {
   "cell_type": "code",
   "execution_count": null,
   "id": "81aa3053",
   "metadata": {},
   "outputs": [],
   "source": [
    "# Sum all claims\n",
    "df_total_claim = df_sev.groupby(\"IDpol\").sum()"
   ]
  },
  {
   "cell_type": "code",
   "execution_count": null,
   "id": "b87677d0",
   "metadata": {},
   "outputs": [],
   "source": [
    "df_total_claim.plot(kind='hist', bins=100, logy=True)"
   ]
  },
  {
   "cell_type": "markdown",
   "id": "6fd518ed",
   "metadata": {},
   "source": [
    "#### Merge DataFrames"
   ]
  },
  {
   "cell_type": "code",
   "execution_count": null,
   "id": "f27fe534",
   "metadata": {},
   "outputs": [],
   "source": [
    "df = df_freq.set_index(\"IDpol\")\n",
    "df[\"ClaimAmount\"] = df_total_claim[\"ClaimAmount\"]\n",
    "df = df.fillna(0)"
   ]
  },
  {
   "cell_type": "markdown",
   "id": "e4b35847",
   "metadata": {},
   "source": [
    "## Data Quality - Data Preparation"
   ]
  },
  {
   "cell_type": "markdown",
   "id": "4af545d3",
   "metadata": {},
   "source": [
    "#### Are there non-unique rows?"
   ]
  },
  {
   "cell_type": "code",
   "execution_count": null,
   "id": "d6ed5fd9",
   "metadata": {},
   "outputs": [],
   "source": [
    "assert len(df_freq[\"IDpol\"]) == len(df_freq[\"IDpol\"].unique())"
   ]
  },
  {
   "cell_type": "code",
   "execution_count": null,
   "id": "60991e67",
   "metadata": {},
   "outputs": [],
   "source": [
    "assert len(df.index) == len(df.index.unique())"
   ]
  },
  {
   "cell_type": "markdown",
   "id": "7acfc141",
   "metadata": {},
   "source": [
    "#### How many insurance holders have claims but no recorded amount?"
   ]
  },
  {
   "cell_type": "code",
   "execution_count": null,
   "id": "d532e9f9",
   "metadata": {},
   "outputs": [],
   "source": [
    "print(\"#Empty Claims = \", len(df[(df[\"ClaimNb\"]>0 ) & (df[\"ClaimAmount\"]==0)]))\n",
    "print(\"Ratio Empty Claims = \",len(df[(df[\"ClaimNb\"]>0 ) & (df[\"ClaimAmount\"]==0)]) / len(df[df[\"ClaimNb\"]>0]))"
   ]
  },
  {
   "cell_type": "code",
   "execution_count": null,
   "id": "0e9f8045",
   "metadata": {},
   "outputs": [],
   "source": [
    "# Drop Empty Claims\n",
    "df_filter = df.drop(df[(df[\"ClaimNb\"]>0 ) & (df[\"ClaimAmount\"]==0)].index)\n",
    "print(\"#Empty Claims = \", len(df_filter[(df_filter[\"ClaimNb\"]>0 ) & (df_filter[\"ClaimAmount\"]==0)]))"
   ]
  },
  {
   "cell_type": "markdown",
   "id": "7296eac3",
   "metadata": {},
   "source": [
    "#### How many claims outlayers are in df?"
   ]
  },
  {
   "cell_type": "code",
   "execution_count": null,
   "id": "98f60857",
   "metadata": {},
   "outputs": [],
   "source": [
    "print(\"# Outlayers\", len(df_filter[df_filter[\"ClaimAmount\"]>0.5e6]))\n",
    "print(\"Ratio Claim Amounts\", df_filter[df_filter[\"ClaimAmount\"]>0.5e6][\"ClaimAmount\"].sum() / df_filter[\"ClaimAmount\"].sum())"
   ]
  },
  {
   "cell_type": "code",
   "execution_count": null,
   "id": "01942be7",
   "metadata": {},
   "outputs": [],
   "source": [
    "# Remove outlayers\n",
    "df_filter = df_filter[df_filter[\"ClaimAmount\"]<0.5e6]"
   ]
  },
  {
   "cell_type": "markdown",
   "id": "6680a3d6",
   "metadata": {},
   "source": [
    "The outlayers will be impossible to predict.\n",
    "However, they combine to a significant amount of claim value. \n",
    "-> Add a outlayer markup on the insurance "
   ]
  },
  {
   "cell_type": "markdown",
   "id": "9891c814",
   "metadata": {},
   "source": [
    "#### Do the areas and regions match?"
   ]
  },
  {
   "cell_type": "code",
   "execution_count": null,
   "id": "9bc4c4fa",
   "metadata": {},
   "outputs": [],
   "source": [
    "area_regions = df_filter.groupby(\"Area\")[\"Region\"].apply(lambda r: sorted(list(r.unique())))"
   ]
  },
  {
   "cell_type": "code",
   "execution_count": null,
   "id": "ac888c70",
   "metadata": {},
   "outputs": [],
   "source": [
    "# Number of regions\n",
    "len(df_filter[\"Region\"].unique())"
   ]
  },
  {
   "cell_type": "code",
   "execution_count": null,
   "id": "2c3b9886",
   "metadata": {},
   "outputs": [],
   "source": [
    "area_regions.apply(len)"
   ]
  },
  {
   "cell_type": "markdown",
   "id": "7b0da775",
   "metadata": {},
   "source": [
    "## Correlations"
   ]
  },
  {
   "cell_type": "code",
   "execution_count": null,
   "id": "1fb67184",
   "metadata": {},
   "outputs": [],
   "source": [
    "ax = pd.plotting.scatter_matrix(df_filter[[\"ClaimNb\",\"Exposure\",\"VehPower\",\"VehAge\",\"DrivAge\",\"BonusMalus\",\"ClaimAmount\"]])"
   ]
  },
  {
   "cell_type": "code",
   "execution_count": null,
   "id": "887ddffa",
   "metadata": {},
   "outputs": [],
   "source": [
    "df_filter[[\"ClaimNb\",\"Exposure\",\"VehPower\",\"VehAge\",\"DrivAge\",\"BonusMalus\",\"ClaimAmount\"]].corr()"
   ]
  },
  {
   "cell_type": "code",
   "execution_count": null,
   "id": "a721bde9",
   "metadata": {},
   "outputs": [],
   "source": [
    "plot_data = df_filter[[\"ClaimNb\",\"Exposure\",\"VehPower\",\"VehAge\",\"DrivAge\",\"BonusMalus\",\"ClaimAmount\"]].corr()\n",
    "# plot heatmap\n",
    "ax = sns.heatmap(plot_data.T)\n",
    "\n",
    "# turn the axis label\n",
    "for item in ax.get_yticklabels():\n",
    "    item.set_rotation(0)\n",
    "\n",
    "for item in ax.get_xticklabels():\n",
    "    item.set_rotation(90)\n",
    "\n",
    "# save figure\n",
    "plt.savefig('corr.png', dpi=100)\n",
    "plt.show()"
   ]
  },
  {
   "cell_type": "markdown",
   "id": "3c735c73",
   "metadata": {},
   "source": [
    "### Include categorical variables"
   ]
  },
  {
   "cell_type": "code",
   "execution_count": null,
   "id": "3aa1002b",
   "metadata": {},
   "outputs": [],
   "source": [
    "df_full = pd.get_dummies(df_filter)"
   ]
  },
  {
   "cell_type": "code",
   "execution_count": null,
   "id": "b0aa6ac4",
   "metadata": {},
   "outputs": [],
   "source": [
    "corr_matrix = df_full.corr()"
   ]
  },
  {
   "cell_type": "code",
   "execution_count": null,
   "id": "085d53c5",
   "metadata": {},
   "outputs": [],
   "source": [
    "sorted(corr_matrix[\"ClaimAmount\"])"
   ]
  },
  {
   "cell_type": "code",
   "execution_count": null,
   "id": "4a92ef0d",
   "metadata": {},
   "outputs": [],
   "source": []
  }
 ],
 "metadata": {
  "kernelspec": {
   "display_name": "Python 3 (ipykernel)",
   "language": "python",
   "name": "python3"
  },
  "language_info": {
   "codemirror_mode": {
    "name": "ipython",
    "version": 3
   },
   "file_extension": ".py",
   "mimetype": "text/x-python",
   "name": "python",
   "nbconvert_exporter": "python",
   "pygments_lexer": "ipython3",
   "version": "3.9.7"
  }
 },
 "nbformat": 4,
 "nbformat_minor": 5
}
