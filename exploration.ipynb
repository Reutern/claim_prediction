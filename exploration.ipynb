{
 "cells": [
  {
   "cell_type": "markdown",
   "id": "f00057a2",
   "metadata": {},
   "source": [
    "# Coding Challenge Huk-Coburg"
   ]
  },
  {
   "cell_type": "markdown",
   "id": "cbae0e07",
   "metadata": {},
   "source": [
    "## Business Understanding\n",
    "\n",
    "* Given is a dataset of french car insurances with raised damage claims\n",
    "* Time budget 5h\n",
    "* predict the yearly damage claims for an insurance holder. \n",
    "* the yearly damage is defined as total amount of claims divided by exposure\n",
    "\n",
    "Questions:\n",
    "What is BonusMalus? - Schadenfreiheitsrabatt: discount for driving without any claims for a certain period "
   ]
  },
  {
   "cell_type": "markdown",
   "id": "ad511f14",
   "metadata": {},
   "source": [
    "## Data Understanding"
   ]
  },
  {
   "cell_type": "code",
   "execution_count": null,
   "id": "d266e0f4",
   "metadata": {},
   "outputs": [],
   "source": [
    "import pandas as pd \n",
    "import arff\n",
    "\n",
    "import seaborn as sns\n",
    "import matplotlib.pyplot as plt"
   ]
  },
  {
   "cell_type": "code",
   "execution_count": null,
   "id": "3dc8a308",
   "metadata": {},
   "outputs": [],
   "source": [
    "# Load features and frequency\n",
    "data_freq = arff.load('data/freMTPL2freq.arff')\n",
    "df_freq = pd.DataFrame(data_freq, columns=[\"IDpol\", \"ClaimNb\", \"Exposure\", \"Area\", \"VehPower\", \n",
    "                                           \"VehAge\",\"DrivAge\", \"BonusMalus\", \"VehBrand\", \"VehGas\", \n",
    "                                           \"Density\", \"Region\"])"
   ]
  },
  {
   "cell_type": "code",
   "execution_count": null,
   "id": "774a3cdb",
   "metadata": {},
   "outputs": [],
   "source": [
    "# Load Claim Amount\n",
    "data_sev = arff.load('data/freMTPL2sev.arff')\n",
    "df_sev = pd.DataFrame(data_sev, columns=[\"IDpol\", \"ClaimAmount\"])"
   ]
  },
  {
   "cell_type": "markdown",
   "id": "8111d4bb",
   "metadata": {},
   "source": [
    "#### Features"
   ]
  },
  {
   "cell_type": "code",
   "execution_count": null,
   "id": "209201c5",
   "metadata": {},
   "outputs": [],
   "source": [
    "df_freq.describe()"
   ]
  },
  {
   "cell_type": "code",
   "execution_count": null,
   "id": "5859b4ec",
   "metadata": {},
   "outputs": [],
   "source": [
    "df_freq.head(5)"
   ]
  },
  {
   "cell_type": "code",
   "execution_count": null,
   "id": "c8fa3e69",
   "metadata": {},
   "outputs": [],
   "source": [
    "# Show categorical variables\n",
    "print(\"Area\", list(df_freq[\"Area\"].unique()))\n",
    "print(\"VehBrand\", list(df_freq[\"VehBrand\"].unique()))\n",
    "print(\"VehGas\",list(df_freq[\"VehGas\"].unique()))\n",
    "print(\"Region\", list(df_freq[\"Region\"].unique()), len(list(df_freq[\"Region\"].unique())))"
   ]
  },
  {
   "cell_type": "markdown",
   "id": "215620fb",
   "metadata": {},
   "source": [
    "#### Claims"
   ]
  },
  {
   "cell_type": "code",
   "execution_count": null,
   "id": "a7861bc3",
   "metadata": {},
   "outputs": [],
   "source": [
    "df_sev.describe()"
   ]
  },
  {
   "cell_type": "code",
   "execution_count": null,
   "id": "9c5114ca",
   "metadata": {},
   "outputs": [],
   "source": [
    "# Sum all claims\n",
    "df_total_claim = df_sev.groupby(\"IDpol\").sum()"
   ]
  },
  {
   "cell_type": "code",
   "execution_count": null,
   "id": "8978b5c4",
   "metadata": {},
   "outputs": [],
   "source": [
    "df_total_claim.plot(kind='hist', bins=100, logy=True)"
   ]
  },
  {
   "cell_type": "markdown",
   "id": "7a218912",
   "metadata": {},
   "source": [
    "#### Merge DataFrames and create yearly Amount"
   ]
  },
  {
   "cell_type": "code",
   "execution_count": null,
   "id": "01cc7e64",
   "metadata": {},
   "outputs": [],
   "source": [
    "df = df_freq.set_index(\"IDpol\")\n",
    "df[\"ClaimAmount\"] = df_total_claim[\"ClaimAmount\"]\n",
    "df = df.fillna(0)\n",
    "df[\"ClaimNorm\"] = df[\"ClaimAmount\"]/df[\"Exposure\"]"
   ]
  },
  {
   "cell_type": "code",
   "execution_count": null,
   "id": "8b15d90a",
   "metadata": {},
   "outputs": [],
   "source": [
    "df[\"ClaimNorm\"].plot(kind='hist', bins=100, logy=True)"
   ]
  },
  {
   "cell_type": "markdown",
   "id": "9978421d",
   "metadata": {},
   "source": [
    "## Data Quality - Data Preparation"
   ]
  },
  {
   "cell_type": "markdown",
   "id": "35057ad1",
   "metadata": {},
   "source": [
    "#### Are there non-unique rows?"
   ]
  },
  {
   "cell_type": "code",
   "execution_count": null,
   "id": "5bae2e94",
   "metadata": {},
   "outputs": [],
   "source": [
    "assert len(df_freq[\"IDpol\"]) == len(df_freq[\"IDpol\"].unique())"
   ]
  },
  {
   "cell_type": "code",
   "execution_count": null,
   "id": "3be58c70",
   "metadata": {},
   "outputs": [],
   "source": [
    "assert len(df.index) == len(df.index.unique())"
   ]
  },
  {
   "cell_type": "markdown",
   "id": "814fa5b4",
   "metadata": {},
   "source": [
    "#### How many insurance holders have claims but no recorded amount?"
   ]
  },
  {
   "cell_type": "code",
   "execution_count": null,
   "id": "2284cabd",
   "metadata": {},
   "outputs": [],
   "source": [
    "print(\"#Empty Claims = \", len(df[(df[\"ClaimNb\"]>0 ) & (df[\"ClaimAmount\"]==0)]))\n",
    "print(\"Ratio Empty Claims = \",len(df[(df[\"ClaimNb\"]>0 ) & (df[\"ClaimAmount\"]==0)]) / len(df[df[\"ClaimNb\"]>0]))"
   ]
  },
  {
   "cell_type": "code",
   "execution_count": null,
   "id": "f39be115",
   "metadata": {},
   "outputs": [],
   "source": [
    "# Drop Empty Claims\n",
    "df_filter = df.drop(df[(df[\"ClaimNb\"]>0 ) & (df[\"ClaimAmount\"]==0)].index)\n",
    "print(\"#Empty Claims = \", len(df_filter[(df_filter[\"ClaimNb\"]>0 ) & (df_filter[\"ClaimAmount\"]==0)]))"
   ]
  },
  {
   "cell_type": "markdown",
   "id": "d5c21fea",
   "metadata": {},
   "source": [
    "#### How many claims outlayers are in df?"
   ]
  },
  {
   "cell_type": "code",
   "execution_count": null,
   "id": "40be241b",
   "metadata": {},
   "outputs": [],
   "source": [
    "print(\"# Outlayers\", len(df_filter[df_filter[\"ClaimAmount\"]>0.5e6]))\n",
    "print(\"Ratio Claim Amounts\", df_filter[df_filter[\"ClaimAmount\"]>0.5e6][\"ClaimAmount\"].sum() / df_filter[\"ClaimAmount\"].sum())"
   ]
  },
  {
   "cell_type": "code",
   "execution_count": null,
   "id": "b472c7ea",
   "metadata": {},
   "outputs": [],
   "source": [
    "# Remove outlayers\n",
    "df_filter = df_filter[df_filter[\"ClaimAmount\"]<0.5e6]"
   ]
  },
  {
   "cell_type": "markdown",
   "id": "1098630c",
   "metadata": {},
   "source": [
    "The outlayers will be impossible to predict.\n",
    "However, they combine to a significant amount of claim value. \n",
    "-> Add a outlayer markup on the insurance "
   ]
  },
  {
   "cell_type": "markdown",
   "id": "5c39f266",
   "metadata": {},
   "source": [
    "#### Do the areas and regions match?"
   ]
  },
  {
   "cell_type": "code",
   "execution_count": null,
   "id": "c98cec96",
   "metadata": {},
   "outputs": [],
   "source": [
    "area_regions = df_filter.groupby(\"Area\")[\"Region\"].apply(lambda r: sorted(list(r.unique())))"
   ]
  },
  {
   "cell_type": "code",
   "execution_count": null,
   "id": "90a617ae",
   "metadata": {},
   "outputs": [],
   "source": [
    "# Number of regions\n",
    "len(df_filter[\"Region\"].unique())"
   ]
  },
  {
   "cell_type": "code",
   "execution_count": null,
   "id": "e6f56afb",
   "metadata": {},
   "outputs": [],
   "source": [
    "area_regions.apply(len)"
   ]
  },
  {
   "cell_type": "markdown",
   "id": "bcd498ff",
   "metadata": {},
   "source": [
    "## Correlations"
   ]
  },
  {
   "cell_type": "code",
   "execution_count": null,
   "id": "2d837ee9",
   "metadata": {},
   "outputs": [],
   "source": [
    "ax = pd.plotting.scatter_matrix(df_filter[[\"ClaimNb\",\"Exposure\",\"VehPower\",\"VehAge\",\"DrivAge\",\"BonusMalus\",\"ClaimAmount\"]])"
   ]
  },
  {
   "cell_type": "code",
   "execution_count": null,
   "id": "3e9cdd90",
   "metadata": {},
   "outputs": [],
   "source": [
    "df_filter[[\"ClaimNb\",\"Exposure\",\"VehPower\",\"VehAge\",\"DrivAge\",\"BonusMalus\",\"ClaimNorm\"]].corr()"
   ]
  },
  {
   "cell_type": "code",
   "execution_count": null,
   "id": "bfcc2c45",
   "metadata": {},
   "outputs": [],
   "source": [
    "plot_data = df_filter[[\"ClaimNb\",\"Exposure\",\"VehPower\",\"VehAge\",\"DrivAge\",\"BonusMalus\",\"ClaimNorm\"]].corr()\n",
    "# plot heatmap\n",
    "ax = sns.heatmap(plot_data.T)\n",
    "\n",
    "# turn the axis label\n",
    "for item in ax.get_yticklabels():\n",
    "    item.set_rotation(0)\n",
    "\n",
    "for item in ax.get_xticklabels():\n",
    "    item.set_rotation(90)\n",
    "\n",
    "# save figure\n",
    "plt.savefig('corr.png', dpi=100)\n",
    "plt.show()"
   ]
  },
  {
   "cell_type": "markdown",
   "id": "8baf1c6a",
   "metadata": {},
   "source": [
    "### Include categorical variables"
   ]
  },
  {
   "cell_type": "code",
   "execution_count": null,
   "id": "29adabf2",
   "metadata": {},
   "outputs": [],
   "source": [
    "df_full = pd.get_dummies(df_filter)"
   ]
  },
  {
   "cell_type": "code",
   "execution_count": null,
   "id": "04659168",
   "metadata": {},
   "outputs": [],
   "source": [
    "corr_matrix = df_full.corr()"
   ]
  },
  {
   "cell_type": "code",
   "execution_count": null,
   "id": "3db2298b",
   "metadata": {},
   "outputs": [],
   "source": [
    "corr_matrix[\"ClaimNorm\"]"
   ]
  },
  {
   "cell_type": "code",
   "execution_count": null,
   "id": "0dcf996d",
   "metadata": {},
   "outputs": [],
   "source": [
    "df_full.to_pickle(\"data/df_full_1.pkl\")"
   ]
  },
  {
   "cell_type": "code",
   "execution_count": null,
   "id": "3c56fd40",
   "metadata": {},
   "outputs": [],
   "source": []
  }
 ],
 "metadata": {
  "kernelspec": {
   "display_name": "Python 3 (ipykernel)",
   "language": "python",
   "name": "python3"
  },
  "language_info": {
   "codemirror_mode": {
    "name": "ipython",
    "version": 3
   },
   "file_extension": ".py",
   "mimetype": "text/x-python",
   "name": "python",
   "nbconvert_exporter": "python",
   "pygments_lexer": "ipython3",
   "version": "3.9.7"
  }
 },
 "nbformat": 4,
 "nbformat_minor": 5
}
