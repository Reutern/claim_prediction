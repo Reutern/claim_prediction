{
 "cells": [
  {
   "cell_type": "markdown",
   "id": "40ae146f",
   "metadata": {},
   "source": [
    "# Coding Challenge Huk-Coburg"
   ]
  },
  {
   "cell_type": "markdown",
   "id": "246fce79",
   "metadata": {},
   "source": [
    "## Business Understanding\n",
    "\n",
    "* Given is a dataset of french car insurances with raised damage claims\n",
    "* Time budget 5h\n",
    "* predict the yearly damage claims for an insurance holder. "
   ]
  },
  {
   "cell_type": "markdown",
   "id": "c6423032",
   "metadata": {},
   "source": [
    "## Data Understanding"
   ]
  },
  {
   "cell_type": "code",
   "execution_count": null,
   "id": "058a3490",
   "metadata": {},
   "outputs": [],
   "source": [
    "import pandas as pd \n",
    "import arff"
   ]
  },
  {
   "cell_type": "code",
   "execution_count": null,
   "id": "772f2692",
   "metadata": {},
   "outputs": [],
   "source": [
    "# Load features and \n",
    "data_freq = arff.load('data/freMTPL2freq.arff')\n",
    "df_freq = pd.DataFrame(data_freq, columns=[\"IDpol\", \"ClaimNb\", \"Exposure\", \"Area\", \"VehPower\", \n",
    "                                           \"VehAge\",\"DrivAge\", \"BonusMalus\", \"VehBrand\", \"VehGas\", \n",
    "                                           \"Density\", \"Region\"])"
   ]
  },
  {
   "cell_type": "code",
   "execution_count": null,
   "id": "20652047",
   "metadata": {},
   "outputs": [],
   "source": [
    "data_sev = arff.load('freMTPL2sev.arff')\n",
    "df_sev = pd.DataFrame(data_sev, columns=[\"IDpol\", \"ClaimAmount\"])"
   ]
  }
 ],
 "metadata": {
  "kernelspec": {
   "display_name": "Python 3 (ipykernel)",
   "language": "python",
   "name": "python3"
  },
  "language_info": {
   "codemirror_mode": {
    "name": "ipython",
    "version": 3
   },
   "file_extension": ".py",
   "mimetype": "text/x-python",
   "name": "python",
   "nbconvert_exporter": "python",
   "pygments_lexer": "ipython3",
   "version": "3.9.7"
  }
 },
 "nbformat": 4,
 "nbformat_minor": 5
}
