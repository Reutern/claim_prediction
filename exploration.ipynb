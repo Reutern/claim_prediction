{
 "cells": [
  {
   "cell_type": "markdown",
   "id": "e9ae6c39",
   "metadata": {},
   "source": [
    "# Coding Challenge Huk-Coburg"
   ]
  },
  {
   "cell_type": "markdown",
   "id": "032ba10f",
   "metadata": {},
   "source": [
    "## Business Understanding\n",
    "\n",
    "* Given is a dataset of french car insurances with raised damage claims\n",
    "* Time budget 5h\n",
    "* predict the yearly damage claims for an insurance holder. \n",
    "\n",
    "Questions:\n",
    "What is BonusMalus? - Schadenfreiheitsrabatt: discount for driving without any claims for a certain period "
   ]
  },
  {
   "cell_type": "markdown",
   "id": "15100300",
   "metadata": {},
   "source": [
    "## Data Understanding"
   ]
  },
  {
   "cell_type": "code",
   "execution_count": null,
   "id": "451a8fd0",
   "metadata": {},
   "outputs": [],
   "source": [
    "import pandas as pd \n",
    "import arff"
   ]
  },
  {
   "cell_type": "code",
   "execution_count": null,
   "id": "348aa0ff",
   "metadata": {},
   "outputs": [],
   "source": [
    "# Load features and frequency\n",
    "data_freq = arff.load('data/freMTPL2freq.arff')\n",
    "df_freq = pd.DataFrame(data_freq, columns=[\"IDpol\", \"ClaimNb\", \"Exposure\", \"Area\", \"VehPower\", \n",
    "                                           \"VehAge\",\"DrivAge\", \"BonusMalus\", \"VehBrand\", \"VehGas\", \n",
    "                                           \"Density\", \"Region\"])"
   ]
  },
  {
   "cell_type": "code",
   "execution_count": null,
   "id": "7881bd5d",
   "metadata": {},
   "outputs": [],
   "source": [
    "# Load Claim Amount\n",
    "data_sev = arff.load('data/freMTPL2sev.arff')\n",
    "df_sev = pd.DataFrame(data_sev, columns=[\"IDpol\", \"ClaimAmount\"])"
   ]
  },
  {
   "cell_type": "markdown",
   "id": "beec28a4",
   "metadata": {},
   "source": [
    "#### Features"
   ]
  },
  {
   "cell_type": "code",
   "execution_count": null,
   "id": "511ee199",
   "metadata": {},
   "outputs": [],
   "source": [
    "df_freq.describe()"
   ]
  },
  {
   "cell_type": "code",
   "execution_count": null,
   "id": "fcf62ca2",
   "metadata": {},
   "outputs": [],
   "source": [
    "df_freq.head(5)"
   ]
  },
  {
   "cell_type": "code",
   "execution_count": null,
   "id": "8afd0296",
   "metadata": {},
   "outputs": [],
   "source": [
    "# Show categorical variables\n",
    "print(\"Area\", list(df_freq[\"Area\"].unique()))\n",
    "print(\"VehBrand\", list(df_freq[\"VehBrand\"].unique()))\n",
    "print(\"VehGas\",list(df_freq[\"VehGas\"].unique()))\n",
    "print(\"Region\", list(df_freq[\"Region\"].unique()), len(list(df_freq[\"Region\"].unique())))"
   ]
  },
  {
   "cell_type": "markdown",
   "id": "43fbe05e",
   "metadata": {},
   "source": [
    "#### Claims"
   ]
  },
  {
   "cell_type": "code",
   "execution_count": null,
   "id": "b151525b",
   "metadata": {},
   "outputs": [],
   "source": [
    "df_sev.describe()"
   ]
  },
  {
   "cell_type": "code",
   "execution_count": null,
   "id": "392aa3cd",
   "metadata": {},
   "outputs": [],
   "source": [
    "# Sum all claims\n",
    "df_total_claim = df_sev.groupby(\"IDpol\").sum()"
   ]
  },
  {
   "cell_type": "code",
   "execution_count": null,
   "id": "aa7771cd",
   "metadata": {},
   "outputs": [],
   "source": [
    "df_total_claim.plot(kind='hist', bins=100, logy=True)"
   ]
  },
  {
   "cell_type": "markdown",
   "id": "fea889b8",
   "metadata": {},
   "source": [
    "#### Merge DataFrames"
   ]
  },
  {
   "cell_type": "code",
   "execution_count": null,
   "id": "95971da8",
   "metadata": {},
   "outputs": [],
   "source": [
    "df = df_freq.set_index(\"IDpol\")\n",
    "df[\"ClaimAmount\"] = df_total_claim[\"ClaimAmount\"]\n",
    "df = df.fillna(0)"
   ]
  },
  {
   "cell_type": "markdown",
   "id": "c8073ba6",
   "metadata": {},
   "source": [
    "## Data Quality"
   ]
  },
  {
   "cell_type": "markdown",
   "id": "144e3b45",
   "metadata": {},
   "source": [
    "#### Are there non-unique rows?"
   ]
  },
  {
   "cell_type": "code",
   "execution_count": null,
   "id": "5df80b54",
   "metadata": {},
   "outputs": [],
   "source": [
    "assert len(df_freq[\"IDpol\"]) == len(df_freq[\"IDpol\"].unique())"
   ]
  },
  {
   "cell_type": "code",
   "execution_count": null,
   "id": "d845b305",
   "metadata": {},
   "outputs": [],
   "source": [
    "assert len(df.index) == len(df.index.unique())"
   ]
  },
  {
   "cell_type": "markdown",
   "id": "574f5519",
   "metadata": {},
   "source": [
    "#### How many insurance holders have claims but no recorded amount?"
   ]
  },
  {
   "cell_type": "code",
   "execution_count": null,
   "id": "a26ccff9",
   "metadata": {},
   "outputs": [],
   "source": [
    "print(\"#Empty Claims = \", len(df[(df[\"ClaimNb\"]>0 ) & (df[\"ClaimAmount\"]==0)]))\n",
    "print(\"Ratio Empty Claims = \",len(df[(df[\"ClaimNb\"]>0 ) & (df[\"ClaimAmount\"]==0)]) / len(df[df[\"ClaimNb\"]>0]))"
   ]
  },
  {
   "cell_type": "code",
   "execution_count": null,
   "id": "9f6f6aa6",
   "metadata": {},
   "outputs": [],
   "source": [
    "# Drop Empty Claims\n",
    "df_filter = df.drop(df[(df[\"ClaimNb\"]>0 ) & (df[\"ClaimAmount\"]==0)].index)\n",
    "print(\"#Empty Claims = \", len(df_filter[(df_filter[\"ClaimNb\"]>0 ) & (df_filter[\"ClaimAmount\"]==0)]))"
   ]
  },
  {
   "cell_type": "markdown",
   "id": "630a6939",
   "metadata": {},
   "source": [
    "#### Do the areas and regions match?"
   ]
  },
  {
   "cell_type": "code",
   "execution_count": null,
   "id": "89d4b7e1",
   "metadata": {},
   "outputs": [],
   "source": [
    "area_regions = df_filter.groupby(\"Area\")[\"Region\"].apply(lambda r: sorted(list(r.unique())))"
   ]
  },
  {
   "cell_type": "code",
   "execution_count": null,
   "id": "fb6efea7",
   "metadata": {},
   "outputs": [],
   "source": [
    "# Number of regions\n",
    "len(df_filter[\"Region\"].unique())"
   ]
  },
  {
   "cell_type": "code",
   "execution_count": null,
   "id": "d916eb83",
   "metadata": {},
   "outputs": [],
   "source": [
    "area_regions.apply(len)"
   ]
  }
 ],
 "metadata": {
  "kernelspec": {
   "display_name": "Python 3 (ipykernel)",
   "language": "python",
   "name": "python3"
  },
  "language_info": {
   "codemirror_mode": {
    "name": "ipython",
    "version": 3
   },
   "file_extension": ".py",
   "mimetype": "text/x-python",
   "name": "python",
   "nbconvert_exporter": "python",
   "pygments_lexer": "ipython3",
   "version": "3.9.7"
  }
 },
 "nbformat": 4,
 "nbformat_minor": 5
}
