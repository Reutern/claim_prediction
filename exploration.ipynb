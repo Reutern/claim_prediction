{
 "cells": [
  {
   "cell_type": "markdown",
   "id": "655b2756",
   "metadata": {},
   "source": [
    "# Coding Challenge Huk-Coburg"
   ]
  },
  {
   "cell_type": "markdown",
   "id": "f4a8060f",
   "metadata": {},
   "source": [
    "## Business Understanding\n",
    "\n",
    "* Given is a dataset of french car insurances with raised damage claims\n",
    "* Time budget 5h\n",
    "* predict the yearly damage claims for an insurance holder. \n",
    "\n",
    "Questions:\n",
    "What is BonusMalus? - Schadenfreiheitsrabatt: discount for driving without any claims for a certain period "
   ]
  },
  {
   "cell_type": "markdown",
   "id": "8e32b377",
   "metadata": {},
   "source": [
    "## Data Understanding"
   ]
  },
  {
   "cell_type": "code",
   "execution_count": null,
   "id": "4e5b2729",
   "metadata": {},
   "outputs": [],
   "source": [
    "import pandas as pd \n",
    "import arff"
   ]
  },
  {
   "cell_type": "code",
   "execution_count": null,
   "id": "50b10301",
   "metadata": {},
   "outputs": [],
   "source": [
    "# Load features and frequency\n",
    "data_freq = arff.load('data/freMTPL2freq.arff')\n",
    "df_freq = pd.DataFrame(data_freq, columns=[\"IDpol\", \"ClaimNb\", \"Exposure\", \"Area\", \"VehPower\", \n",
    "                                           \"VehAge\",\"DrivAge\", \"BonusMalus\", \"VehBrand\", \"VehGas\", \n",
    "                                           \"Density\", \"Region\"])"
   ]
  },
  {
   "cell_type": "code",
   "execution_count": null,
   "id": "676cf1d0",
   "metadata": {},
   "outputs": [],
   "source": [
    "# Load Claim Amount\n",
    "data_sev = arff.load('data/freMTPL2sev.arff')\n",
    "df_sev = pd.DataFrame(data_sev, columns=[\"IDpol\", \"ClaimAmount\"])"
   ]
  },
  {
   "cell_type": "markdown",
   "id": "6ea9629a",
   "metadata": {},
   "source": [
    "#### Features"
   ]
  },
  {
   "cell_type": "code",
   "execution_count": null,
   "id": "bb0b5fd4",
   "metadata": {},
   "outputs": [],
   "source": [
    "df_freq.describe()"
   ]
  },
  {
   "cell_type": "code",
   "execution_count": null,
   "id": "b2e7676e",
   "metadata": {},
   "outputs": [],
   "source": [
    "# Test if IDpol is unique\n",
    "assert len(df_freq[\"IDpol\"]) == len(df_freq[\"IDpol\"].unique())"
   ]
  },
  {
   "cell_type": "code",
   "execution_count": null,
   "id": "cfb01bc8",
   "metadata": {},
   "outputs": [],
   "source": [
    "df_freq.head(5)"
   ]
  },
  {
   "cell_type": "code",
   "execution_count": null,
   "id": "ec8ad5b1",
   "metadata": {},
   "outputs": [],
   "source": [
    "# Show categorical variables\n",
    "print(\"Area\", list(df_freq[\"Area\"].unique()))\n",
    "print(\"VehBrand\", list(df_freq[\"VehBrand\"].unique()))\n",
    "print(\"VehGas\",list(df_freq[\"VehGas\"].unique()))\n",
    "print(\"Region\", list(df_freq[\"Region\"].unique()))"
   ]
  },
  {
   "cell_type": "markdown",
   "id": "15893232",
   "metadata": {},
   "source": [
    "#### Claims"
   ]
  },
  {
   "cell_type": "code",
   "execution_count": null,
   "id": "4b2cd9c1",
   "metadata": {},
   "outputs": [],
   "source": [
    "df_sev.describe()"
   ]
  },
  {
   "cell_type": "code",
   "execution_count": null,
   "id": "d5628417",
   "metadata": {},
   "outputs": [],
   "source": [
    "# Sum all claims\n",
    "df_total_claim = df_sev.groupby(\"IDpol\").sum()"
   ]
  },
  {
   "cell_type": "code",
   "execution_count": null,
   "id": "15e64c92",
   "metadata": {},
   "outputs": [],
   "source": [
    "df_total_claim.plot(kind='hist', bins=100, logy=True)"
   ]
  },
  {
   "cell_type": "markdown",
   "id": "34adafee",
   "metadata": {},
   "source": [
    "#### Merge DataFrames"
   ]
  },
  {
   "cell_type": "code",
   "execution_count": null,
   "id": "26c4c241",
   "metadata": {},
   "outputs": [],
   "source": [
    "df = df_freq.set_index(\"IDpol\")\n",
    "df[\"ClaimAmount\"] = df_total_claim[\"ClaimAmount\"]\n",
    "df = df.fillna(0)"
   ]
  },
  {
   "cell_type": "markdown",
   "id": "128ff492",
   "metadata": {},
   "source": [
    "## Data Quality"
   ]
  },
  {
   "cell_type": "markdown",
   "id": "d6d367b1",
   "metadata": {},
   "source": [
    "#### How many insurance holders have claims but no recorded amount?"
   ]
  },
  {
   "cell_type": "code",
   "execution_count": null,
   "id": "79880ca9",
   "metadata": {},
   "outputs": [],
   "source": []
  }
 ],
 "metadata": {
  "kernelspec": {
   "display_name": "Python 3 (ipykernel)",
   "language": "python",
   "name": "python3"
  },
  "language_info": {
   "codemirror_mode": {
    "name": "ipython",
    "version": 3
   },
   "file_extension": ".py",
   "mimetype": "text/x-python",
   "name": "python",
   "nbconvert_exporter": "python",
   "pygments_lexer": "ipython3",
   "version": "3.9.7"
  }
 },
 "nbformat": 4,
 "nbformat_minor": 5
}
