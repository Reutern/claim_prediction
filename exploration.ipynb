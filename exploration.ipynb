{
 "cells": [
  {
   "cell_type": "markdown",
   "id": "d4bb07fc",
   "metadata": {},
   "source": [
    "# Coding Challenge Huk-Coburg"
   ]
  },
  {
   "cell_type": "markdown",
   "id": "16f70da1",
   "metadata": {},
   "source": [
    "## Business Understanding\n",
    "\n",
    "* Given is a dataset of french car insurances with raised damage claims\n",
    "* Time budget 5h\n",
    "* predict the yearly damage claims for an insurance holder. \n",
    "\n",
    "Questions:\n",
    "What is BonusMalus? - Schadenfreiheitsrabatt: discount for driving without any claims for a certain period "
   ]
  },
  {
   "cell_type": "markdown",
   "id": "256ae27d",
   "metadata": {},
   "source": [
    "## Data Understanding"
   ]
  },
  {
   "cell_type": "code",
   "execution_count": null,
   "id": "b61179a3",
   "metadata": {},
   "outputs": [],
   "source": [
    "import pandas as pd \n",
    "import arff\n",
    "\n",
    "import seaborn as sns\n",
    "import matplotlib.pyplot as plt"
   ]
  },
  {
   "cell_type": "code",
   "execution_count": null,
   "id": "c450aa95",
   "metadata": {},
   "outputs": [],
   "source": [
    "# Load features and frequency\n",
    "data_freq = arff.load('data/freMTPL2freq.arff')\n",
    "df_freq = pd.DataFrame(data_freq, columns=[\"IDpol\", \"ClaimNb\", \"Exposure\", \"Area\", \"VehPower\", \n",
    "                                           \"VehAge\",\"DrivAge\", \"BonusMalus\", \"VehBrand\", \"VehGas\", \n",
    "                                           \"Density\", \"Region\"])"
   ]
  },
  {
   "cell_type": "code",
   "execution_count": null,
   "id": "84887499",
   "metadata": {},
   "outputs": [],
   "source": [
    "# Load Claim Amount\n",
    "data_sev = arff.load('data/freMTPL2sev.arff')\n",
    "df_sev = pd.DataFrame(data_sev, columns=[\"IDpol\", \"ClaimAmount\"])"
   ]
  },
  {
   "cell_type": "markdown",
   "id": "5d6860f3",
   "metadata": {},
   "source": [
    "#### Features"
   ]
  },
  {
   "cell_type": "code",
   "execution_count": null,
   "id": "d23164eb",
   "metadata": {},
   "outputs": [],
   "source": [
    "df_freq.describe()"
   ]
  },
  {
   "cell_type": "code",
   "execution_count": null,
   "id": "4d3406d2",
   "metadata": {},
   "outputs": [],
   "source": [
    "df_freq.head(5)"
   ]
  },
  {
   "cell_type": "code",
   "execution_count": null,
   "id": "8885c313",
   "metadata": {},
   "outputs": [],
   "source": [
    "# Show categorical variables\n",
    "print(\"Area\", list(df_freq[\"Area\"].unique()))\n",
    "print(\"VehBrand\", list(df_freq[\"VehBrand\"].unique()))\n",
    "print(\"VehGas\",list(df_freq[\"VehGas\"].unique()))\n",
    "print(\"Region\", list(df_freq[\"Region\"].unique()), len(list(df_freq[\"Region\"].unique())))"
   ]
  },
  {
   "cell_type": "markdown",
   "id": "0445500f",
   "metadata": {},
   "source": [
    "#### Claims"
   ]
  },
  {
   "cell_type": "code",
   "execution_count": null,
   "id": "439e482b",
   "metadata": {},
   "outputs": [],
   "source": [
    "df_sev.describe()"
   ]
  },
  {
   "cell_type": "code",
   "execution_count": null,
   "id": "be4124b4",
   "metadata": {},
   "outputs": [],
   "source": [
    "# Sum all claims\n",
    "df_total_claim = df_sev.groupby(\"IDpol\").sum()"
   ]
  },
  {
   "cell_type": "code",
   "execution_count": null,
   "id": "5cb4e634",
   "metadata": {},
   "outputs": [],
   "source": [
    "df_total_claim.plot(kind='hist', bins=100, logy=True)"
   ]
  },
  {
   "cell_type": "markdown",
   "id": "1e710d16",
   "metadata": {},
   "source": [
    "#### Merge DataFrames"
   ]
  },
  {
   "cell_type": "code",
   "execution_count": null,
   "id": "02416c60",
   "metadata": {},
   "outputs": [],
   "source": [
    "df = df_freq.set_index(\"IDpol\")\n",
    "df[\"ClaimAmount\"] = df_total_claim[\"ClaimAmount\"]\n",
    "df = df.fillna(0)"
   ]
  },
  {
   "cell_type": "markdown",
   "id": "97ec03ea",
   "metadata": {},
   "source": [
    "## Data Quality - Data Preparation"
   ]
  },
  {
   "cell_type": "markdown",
   "id": "e3fba186",
   "metadata": {},
   "source": [
    "#### Are there non-unique rows?"
   ]
  },
  {
   "cell_type": "code",
   "execution_count": null,
   "id": "51023f12",
   "metadata": {},
   "outputs": [],
   "source": [
    "assert len(df_freq[\"IDpol\"]) == len(df_freq[\"IDpol\"].unique())"
   ]
  },
  {
   "cell_type": "code",
   "execution_count": null,
   "id": "71697174",
   "metadata": {},
   "outputs": [],
   "source": [
    "assert len(df.index) == len(df.index.unique())"
   ]
  },
  {
   "cell_type": "markdown",
   "id": "f1df2cd5",
   "metadata": {},
   "source": [
    "#### How many insurance holders have claims but no recorded amount?"
   ]
  },
  {
   "cell_type": "code",
   "execution_count": null,
   "id": "3c3da69f",
   "metadata": {},
   "outputs": [],
   "source": [
    "print(\"#Empty Claims = \", len(df[(df[\"ClaimNb\"]>0 ) & (df[\"ClaimAmount\"]==0)]))\n",
    "print(\"Ratio Empty Claims = \",len(df[(df[\"ClaimNb\"]>0 ) & (df[\"ClaimAmount\"]==0)]) / len(df[df[\"ClaimNb\"]>0]))"
   ]
  },
  {
   "cell_type": "code",
   "execution_count": null,
   "id": "03a417ac",
   "metadata": {},
   "outputs": [],
   "source": [
    "# Drop Empty Claims\n",
    "df_filter = df.drop(df[(df[\"ClaimNb\"]>0 ) & (df[\"ClaimAmount\"]==0)].index)\n",
    "print(\"#Empty Claims = \", len(df_filter[(df_filter[\"ClaimNb\"]>0 ) & (df_filter[\"ClaimAmount\"]==0)]))"
   ]
  },
  {
   "cell_type": "markdown",
   "id": "f00efc95",
   "metadata": {},
   "source": [
    "#### How many claims outlayers are in df?"
   ]
  },
  {
   "cell_type": "code",
   "execution_count": null,
   "id": "884f7e59",
   "metadata": {},
   "outputs": [],
   "source": [
    "print(\"# Outlayers\", len(df_filter[df_filter[\"ClaimAmount\"]>0.5e6]))\n",
    "print(\"Ratio Claim Amounts\", df_filter[df_filter[\"ClaimAmount\"]>0.5e6][\"ClaimAmount\"].sum() / df_filter[\"ClaimAmount\"].sum())"
   ]
  },
  {
   "cell_type": "code",
   "execution_count": null,
   "id": "b68a5206",
   "metadata": {},
   "outputs": [],
   "source": [
    "# Remove outlayers\n",
    "df_filter = df_filter[df_filter[\"ClaimAmount\"]<0.5e6]"
   ]
  },
  {
   "cell_type": "markdown",
   "id": "3d2b9cd7",
   "metadata": {},
   "source": [
    "The outlayers will be impossible to predict.\n",
    "However, they combine to a significant amount of claim value. \n",
    "-> Add a outlayer markup on the insurance "
   ]
  },
  {
   "cell_type": "markdown",
   "id": "0e101b08",
   "metadata": {},
   "source": [
    "#### Do the areas and regions match?"
   ]
  },
  {
   "cell_type": "code",
   "execution_count": null,
   "id": "65fa382d",
   "metadata": {},
   "outputs": [],
   "source": [
    "area_regions = df_filter.groupby(\"Area\")[\"Region\"].apply(lambda r: sorted(list(r.unique())))"
   ]
  },
  {
   "cell_type": "code",
   "execution_count": null,
   "id": "bf00010e",
   "metadata": {},
   "outputs": [],
   "source": [
    "# Number of regions\n",
    "len(df_filter[\"Region\"].unique())"
   ]
  },
  {
   "cell_type": "code",
   "execution_count": null,
   "id": "bb74cc86",
   "metadata": {},
   "outputs": [],
   "source": [
    "area_regions.apply(len)"
   ]
  },
  {
   "cell_type": "markdown",
   "id": "d7e56dfc",
   "metadata": {},
   "source": [
    "## Correlations"
   ]
  },
  {
   "cell_type": "code",
   "execution_count": null,
   "id": "c4f78452",
   "metadata": {},
   "outputs": [],
   "source": [
    "pd.plotting.scatter_matrix(df_filter[[\"ClaimNb\",\"Exposure\",\"VehPower\",\"VehAge\",\"DrivAge\",\"BonusMalus\",\"ClaimAmount\"]])"
   ]
  },
  {
   "cell_type": "code",
   "execution_count": null,
   "id": "90664dd0",
   "metadata": {},
   "outputs": [],
   "source": [
    "df_filter[[\"ClaimNb\",\"Exposure\",\"VehPower\",\"VehAge\",\"DrivAge\",\"BonusMalus\",\"ClaimAmount\"]].corr()"
   ]
  },
  {
   "cell_type": "code",
   "execution_count": null,
   "id": "9863446d",
   "metadata": {},
   "outputs": [],
   "source": [
    "plot_data = df_filter[[\"ClaimNb\",\"Exposure\",\"VehPower\",\"VehAge\",\"DrivAge\",\"BonusMalus\",\"ClaimAmount\"]].corr()\n",
    "# plot heatmap\n",
    "ax = sns.heatmap(plot_data.T)\n",
    "\n",
    "# turn the axis label\n",
    "for item in ax.get_yticklabels():\n",
    "    item.set_rotation(0)\n",
    "\n",
    "for item in ax.get_xticklabels():\n",
    "    item.set_rotation(90)\n",
    "\n",
    "# save figure\n",
    "plt.savefig('corr.png', dpi=100)\n",
    "plt.show()"
   ]
  },
  {
   "cell_type": "markdown",
   "id": "9e30beb0",
   "metadata": {},
   "source": [
    "### Include categorical variables"
   ]
  },
  {
   "cell_type": "code",
   "execution_count": null,
   "id": "3fe375ce",
   "metadata": {},
   "outputs": [],
   "source": [
    "df_full = pd.get_dummies(df_filter)"
   ]
  },
  {
   "cell_type": "code",
   "execution_count": null,
   "id": "39c35541",
   "metadata": {},
   "outputs": [],
   "source": [
    "corr_matrix = df_full.corr()"
   ]
  },
  {
   "cell_type": "code",
   "execution_count": null,
   "id": "a870f2f2",
   "metadata": {},
   "outputs": [],
   "source": [
    "corr_matrix[\"ClaimAmount\"]"
   ]
  },
  {
   "cell_type": "code",
   "execution_count": null,
   "id": "7495e1fc",
   "metadata": {},
   "outputs": [],
   "source": []
  }
 ],
 "metadata": {
  "kernelspec": {
   "display_name": "Python 3 (ipykernel)",
   "language": "python",
   "name": "python3"
  },
  "language_info": {
   "codemirror_mode": {
    "name": "ipython",
    "version": 3
   },
   "file_extension": ".py",
   "mimetype": "text/x-python",
   "name": "python",
   "nbconvert_exporter": "python",
   "pygments_lexer": "ipython3",
   "version": "3.9.7"
  }
 },
 "nbformat": 4,
 "nbformat_minor": 5
}
